{
 "cells": [
  {
   "cell_type": "code",
   "execution_count": 1,
   "metadata": {},
   "outputs": [
    {
     "name": "stdout",
     "output_type": "stream",
     "text": [
      "Input:\n",
      "[[ 1  2  3  4  5  6]\n",
      " [ 7  8  9 10 11 12]\n",
      " [13 14 15 16 17 18]\n",
      " [19 20 21 22 23 24]\n",
      " [25 26 27 28 29 30]\n",
      " [31 32 33 34 35 36]]\n",
      "\\Kernel:\n",
      "[[1 2 3]\n",
      " [4 5 6]\n",
      " [7 8 9]]\n",
      "\n",
      "Output:\n",
      "[[ 474.  519.  564.  609.]\n",
      " [ 744.  789.  834.  879.]\n",
      " [1014. 1059. 1104. 1149.]\n",
      " [1284. 1329. 1374. 1419.]]\n"
     ]
    }
   ],
   "source": [
    "import numpy as np\n",
    "\n",
    "input_matrix = np.array([\n",
    "    [1, 2, 3, 4, 5, 6],\n",
    "    [7, 8, 9, 10, 11, 12],\n",
    "    [13, 14, 15, 16, 17, 18],\n",
    "    [19, 20, 21, 22, 23, 24],\n",
    "    [25, 26, 27, 28, 29, 30],\n",
    "    [31, 32, 33, 34, 35, 36]\n",
    "])\n",
    "\n",
    "kernel = np.array([\n",
    "    [1, 2, 3],\n",
    "    [4, 5, 6],\n",
    "    [7, 8, 9]\n",
    "])\n",
    "\n",
    "output_size = (input_matrix.shape[0] - kernel.shape[0]) // 1 + 1\n",
    "\n",
    "output_matrix = np.zeros((output_size, output_size))\n",
    "\n",
    "\n",
    "for i in range(output_size):\n",
    "    for j in range(output_size):\n",
    "        region = input_matrix[i:i + kernel.shape[0], j:j + kernel.shape[1]]\n",
    "        output_matrix[i, j] = np.sum(region * kernel)\n",
    "\n",
    "print(\"Input:\")\n",
    "print(input_matrix)\n",
    "\n",
    "print(\"\\Kernel:\")\n",
    "print(kernel)\n",
    "\n",
    "print(\"\\nOutput:\")\n",
    "print(output_matrix)"
   ]
  }
 ],
 "metadata": {
  "kernelspec": {
   "display_name": "Python 3",
   "language": "python",
   "name": "python3"
  },
  "language_info": {
   "codemirror_mode": {
    "name": "ipython",
    "version": 3
   },
   "file_extension": ".py",
   "mimetype": "text/x-python",
   "name": "python",
   "nbconvert_exporter": "python",
   "pygments_lexer": "ipython3",
   "version": "3.8.10"
  }
 },
 "nbformat": 4,
 "nbformat_minor": 2
}
