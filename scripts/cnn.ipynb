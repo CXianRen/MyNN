{
 "cells": [
  {
   "cell_type": "code",
   "execution_count": 2,
   "metadata": {},
   "outputs": [
    {
     "name": "stdout",
     "output_type": "stream",
     "text": [
      "Input:\n",
      "[[ 474  519  564  609]\n",
      " [ 744  789  834  879]\n",
      " [1014 1059 1104 1149]\n",
      " [1284 1329 1374 1419]]\n",
      "\\Kernel:\n",
      "[[1 2 3]\n",
      " [4 5 6]\n",
      " [7 8 9]]\n",
      "\n",
      "Output:\n",
      "[[40635. 42660.]\n",
      " [52785. 54810.]]\n"
     ]
    }
   ],
   "source": [
    "import numpy as np\n",
    "\n",
    "input_matrix = np.array([\n",
    "    [474, 519, 564, 609],\n",
    "        [744, 789, 834, 879],\n",
    "        [1014, 1059, 1104, 1149],\n",
    "        [1284, 1329, 1374, 1419]\n",
    "])\n",
    "\n",
    "kernel = np.array([\n",
    "    [1, 2, 3],\n",
    "    [4, 5, 6],\n",
    "    [7, 8, 9]\n",
    "])\n",
    "\n",
    "output_size = (input_matrix.shape[0] - kernel.shape[0]) // 1 + 1\n",
    "\n",
    "output_matrix = np.zeros((output_size, output_size))\n",
    "\n",
    "\n",
    "for i in range(output_size):\n",
    "    for j in range(output_size):\n",
    "        region = input_matrix[i:i + kernel.shape[0], j:j + kernel.shape[1]]\n",
    "        output_matrix[i, j] = np.sum(region * kernel)\n",
    "\n",
    "print(\"Input:\")\n",
    "print(input_matrix)\n",
    "\n",
    "print(\"\\Kernel:\")\n",
    "print(kernel)\n",
    "\n",
    "print(\"\\nOutput:\")\n",
    "print(output_matrix)"
   ]
  },
  {
   "cell_type": "code",
   "execution_count": 6,
   "metadata": {},
   "outputs": [
    {
     "name": "stdout",
     "output_type": "stream",
     "text": [
      "Output matrix:\n",
      "[[ 1.  4.  7.  6.]\n",
      " [ 7. 23. 33. 24.]\n",
      " [19. 53. 63. 42.]\n",
      " [21. 52. 59. 36.]]\n"
     ]
    }
   ],
   "source": [
    "import numpy as np\n",
    "\n",
    "def full_convolution(input, kernel):\n",
    "    input_height, input_width = input.shape\n",
    "    kernel_height, kernel_width = kernel.shape\n",
    "    output_height = input_height + kernel_height - 1\n",
    "    output_width = input_width + kernel_width - 1\n",
    "\n",
    "    output = np.zeros((output_height, output_width))\n",
    "\n",
    "    for i in range(input_height):\n",
    "        for j in range(input_width):\n",
    "            for k in range(kernel_height):\n",
    "                for l in range(kernel_width):\n",
    "                    output[i + k, j + l] += input[i, j] * kernel[k, l]\n",
    "\n",
    "    return output\n",
    "\n",
    "dLdO2 = np.array([\n",
    "    [1, 2, 3],\n",
    "    [4, 5, 6],\n",
    "    [7, 8, 9]\n",
    "])\n",
    "\n",
    "K2 = np.array([\n",
    "    [1, 2],\n",
    "    [3, 4]\n",
    "])\n",
    "\n",
    "\n",
    "output = full_convolution(dLdO2, K2)\n",
    "\n",
    "print(\"Output matrix:\")\n",
    "print(output)"
   ]
  }
 ],
 "metadata": {
  "kernelspec": {
   "display_name": "Python 3",
   "language": "python",
   "name": "python3"
  },
  "language_info": {
   "codemirror_mode": {
    "name": "ipython",
    "version": 3
   },
   "file_extension": ".py",
   "mimetype": "text/x-python",
   "name": "python",
   "nbconvert_exporter": "python",
   "pygments_lexer": "ipython3",
   "version": "3.8.10"
  }
 },
 "nbformat": 4,
 "nbformat_minor": 2
}
