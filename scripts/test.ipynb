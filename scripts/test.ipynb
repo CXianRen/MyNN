{
 "cells": [
  {
   "cell_type": "code",
   "execution_count": 13,
   "metadata": {},
   "outputs": [
    {
     "data": {
      "text/plain": [
       "array([[0.79084864, 0.07771166, 0.88013279, 0.53477629],\n",
       "       [0.07771166, 0.81403693, 0.53477629, 0.7789242 ],\n",
       "       [0.88013279, 0.53477629, 0.17632189, 0.43915847],\n",
       "       [0.53477629, 0.7789242 , 0.43915847, 0.78338018],\n",
       "       [0.00378901, 0.70249085, 0.66334102, 0.86475102],\n",
       "       [0.70249085, 0.33751529, 0.86475102, 0.2024938 ],\n",
       "       [0.66334102, 0.86475102, 0.37534278, 0.51826778],\n",
       "       [0.86475102, 0.2024938 , 0.51826778, 0.8465166 ]])"
      ]
     },
     "execution_count": 13,
     "metadata": {},
     "output_type": "execute_result"
    }
   ],
   "source": [
    "import numpy as np\n",
    "\n",
    "def im2col(input_data, filter_h, filter_w, stride=1, pad=0):\n",
    "    N, C, H, W = input_data.shape\n",
    "    out_h = (H + 2*pad - filter_h) // stride + 1\n",
    "    out_w = (W + 2*pad - filter_w) // stride + 1\n",
    "\n",
    "    img = np.pad(input_data, [(0,0), (0,0), (pad, pad), (pad, pad)], 'constant')\n",
    "    col = np.zeros((N, C, filter_h, filter_w, out_h, out_w))\n",
    "\n",
    "    for y in range(filter_h):\n",
    "        y_max = y + stride*out_h\n",
    "        for x in range(filter_w):\n",
    "            x_max = x + stride*out_w\n",
    "            col[:, :, y, x, :, :] = img[:, :, y:y_max:stride, x:x_max:stride]\n",
    "\n",
    "    col = col.transpose(0, 4, 5, 1, 2, 3).reshape(N * out_h * out_w, -1)\n",
    "    return col\n",
    "\n",
    "X = np.random.rand(2, 1, 3, 3)  # Batch size of 2, 3 channels, 5x5 image\n",
    "col = im2col(X, 2, 2)\n",
    "\n",
    "col"
   ]
  }
 ],
 "metadata": {
  "kernelspec": {
   "display_name": "Python 3",
   "language": "python",
   "name": "python3"
  },
  "language_info": {
   "codemirror_mode": {
    "name": "ipython",
    "version": 3
   },
   "file_extension": ".py",
   "mimetype": "text/x-python",
   "name": "python",
   "nbconvert_exporter": "python",
   "pygments_lexer": "ipython3",
   "version": "3.8.10"
  }
 },
 "nbformat": 4,
 "nbformat_minor": 2
}
